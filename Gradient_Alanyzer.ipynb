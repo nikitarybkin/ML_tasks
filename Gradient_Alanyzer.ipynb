{
 "cells": [
  {
   "cell_type": "heading",
   "metadata": {},
   "level": 1,
   "source": [
    "Constant Lambda:"
   ]
  },
  {
   "cell_type": "code",
   "execution_count": 8,
   "metadata": {},
   "outputs": [
    {
     "name": "stdout",
     "output_type": "stream",
     "text": [
      "Two-dimensional Rozenbrock\nx0 ==  [9.26252790009757, 4.33503966768421]\nx ==  [2.2349356753737344, 4.99670503183485] \tf(x) ==  1.5253785487136549 \n------------------------\nx0 ==  [6.770144449812001, -1.4226292719596252]\n"
     ]
    },
    {
     "name": "stdout",
     "output_type": "stream",
     "text": [
      "x ==  [0.37500691303351524, 0.13762375794504872] \tf(x) ==  0.39152021901309864 \n------------------------\nx0 ==  [6.282757574725288, 0.2888380394156371]\nx ==  [1.07372262636578, 1.1510955842808213] \tf(x) ==  0.005753538937402109 \n------------------------\nx0 ==  [5.489897983310366, -8.974195314000815]\n"
     ]
    },
    {
     "name": "stdout",
     "output_type": "stream",
     "text": [
      "x ==  [0.375011651876832, 0.13762732413306136] \tf(x) ==  0.39151428835103097 \n------------------------\nx0 ==  [2.07582785279196, 1.4771529193084714]\nx ==  [1.3067327316565622, 1.7068541256020893] \tf(x) ==  0.09413345292705355 \n------------------------\nx =  [1.07372262636578, 1.1510955842808213]\nf(x) =  0.005753538937402109\nMultidimensional Rozenbrock\nx0 ==  [-0.5951915226328541, 8.423620245308069, 2.2235226470087674, -1.5471253124870685]\n"
     ]
    },
    {
     "name": "stdout",
     "output_type": "stream",
     "text": [
      "x ==  [-2.511757868981256, 6.315651746449503, 0.6838007083234072, 0.4660747566640547] \tf(x) ==  12.437174350288778 \n------------------------\nx0 ==  [-0.23178419900835756, 1.4627261403660974, -6.762501605097102, -8.030907611704512]\n"
     ]
    },
    {
     "name": "stdout",
     "output_type": "stream",
     "text": [
      "x ==  [0.4123741918839927, 0.16716062196795334, 0.6530789998549387, 0.42483505203555233] \tf(x) ==  0.46677582743769325 \n------------------------\nx0 ==  [3.7989479160391717, -1.793858491212987, 8.62142973807704, 1.0256215978699839]\n"
     ]
    },
    {
     "name": "stdout",
     "output_type": "stream",
     "text": [
      "x ==  [0.38710979612821106, 0.14688028461210373, 1.3554659083475207, 1.838442142873917] \tf(x) ==  0.5030079530283657 \n------------------------\nx0 ==  [-0.33265273740083146, -0.16419665564337826, 0.4717278533662288, 8.389243311031823]\n"
     ]
    },
    {
     "name": "stdout",
     "output_type": "stream",
     "text": [
      "x ==  [0.4631909166440548, 0.21186252223283036, 2.6795505123673165, 7.183019526421808] \tf(x) ==  3.1106911556082255 \n------------------------\nx0 ==  [9.863234869798788, -0.6962944628060104, -2.561123504623568, -3.050139043127733]\n"
     ]
    },
    {
     "name": "stdout",
     "output_type": "stream",
     "text": [
      "x ==  [0.776843618989114, 0.6024694481102875, 0.38666752534026305, 0.14653679093277674] \tf(x) ==  0.42696388744399316 \n------------------------\nx =  [0.776843618989114, 0.6024694481102875, 0.38666752534026305, 0.14653679093277674]\nf(x) =  0.42696388744399316\n"
     ]
    }
   ],
   "source": [
    "__author__ = 'Nikita Rybkin'\n",
    "\n",
    "import math\n",
    "import numpy\n",
    "import random\n",
    "\n",
    "lambda_c = 0.00001\n",
    "lambda_delta = 0.99999\n",
    "EPS = 1e-5\n",
    "minX = -10\n",
    "maxX = 10\n",
    "MAXIterations = 1e5\n",
    "\n",
    "\n",
    "def lambda_counter(x, grad, function):\n",
    "\tl = 0\n",
    "\tr = 1\n",
    "\twhile (r - l > EPS):\n",
    "\t\tx1 = l + (r - l) / 3\n",
    "\t\tx2 = l + (r - l) / 3 * 2\n",
    "\t\tf1 = function(substract(x, vector_multiplicator(grad, x1)))\n",
    "\t\tf2 = function(substract(x, vector_multiplicator(grad, x2)))\n",
    "\t\tif (f1 > f2):\n",
    "\t\t\tl = x1\n",
    "\t\telse:\n",
    "\t\t\tr = x2\n",
    "\tf1 = function(substract(x, vector_multiplicator(grad, l)))\n",
    "\tf2 = function(substract(x, vector_multiplicator(grad, r)))\n",
    "\tif (f1 < f2):\n",
    "\t\treturn l\n",
    "\telse:\n",
    "\t\treturn r\n",
    "\n",
    "\n",
    "def rozen_two(x):\n",
    "\treturn ((1 - x[0]) ** 2) + 100 * ((x[1] - x[0] ** 2) ** 2)\n",
    "\n",
    "\n",
    "def rozen_multi(n):\n",
    "\tdef f(x):\n",
    "\t\tres = 0\n",
    "\t\tfor i in range(int(n / 2)):\n",
    "\t\t\tres = res + (1 - x[2 * i]) ** 2 + 100 * ((x[2 * i + 1] - x[2 * i] ** 2) ** 2)\n",
    "\t\treturn res\n",
    "\n",
    "\treturn f\n",
    "\n",
    "\n",
    "def rozen_grad_two(x):\n",
    "\tres = []\n",
    "\tres.append(2 * (200 * x[0] ** 3 - 200 * x[0] * x[1] + x[0] - 1))\n",
    "\tres.append(200 * (x[1] - x[0] ** 2))\n",
    "\treturn res\n",
    "\n",
    "\n",
    "def rozen_grad_multi(n):\n",
    "\tdef grad(x):\n",
    "\t\tres = []\n",
    "\t\tfor i in range(int(n / 2)):\n",
    "\t\t\tres.append(2 * (200 * x[2 * i] ** 3 - 200 * x[2 * i] * x[2 * i + 1] + x[2 * i] - 1))\n",
    "\t\t\tres.append(200 * (x[2 * i + 1] - x[2 * i] ** 2))\n",
    "\t\treturn res\n",
    "\n",
    "\treturn grad\n",
    "\n",
    "\n",
    "def substract(x1, x2):\n",
    "\tx = []\n",
    "\tfor i in range(len(x1)):\n",
    "\t\tx.append(x1[i] - x2[i])\n",
    "\treturn x\n",
    "\n",
    "\n",
    "def vector_multiplicator(x, k):\n",
    "\tres = []\n",
    "\tfor i in x:\n",
    "\t\tres.append(i * k)\n",
    "\treturn res\n",
    "\n",
    "\n",
    "def grad_desc(x, function, grad_func, method):\n",
    "\tLambda = lambda_c\n",
    "\tif (method == 3):\n",
    "\t\tLambda = lambda_counter(x, grad_func(x), function)\n",
    "\tnextX = substract(x, vector_multiplicator(grad_func(x), Lambda))\n",
    "\tIterations = 0\n",
    "\twhile (numpy.linalg.norm(substract(x, nextX)) > EPS\n",
    "\t\t   and math.fabs(function(x) - function(nextX)) > EPS\n",
    "\t\t   and numpy.linalg.norm(grad_func(x)) > EPS\n",
    "\t\t   and Iterations < MAXIterations):\n",
    "\t\tx = nextX\n",
    "\t\tif (method == 2):\n",
    "\t\t\tLambda = Lambda * lambda_delta\n",
    "\t\tif (method == 3):\n",
    "\t\t\tLambda = lambda_counter(x, grad_func(x), function)\n",
    "\t\tnextX = substract(x, vector_multiplicator(grad_func(x), Lambda))\n",
    "\t\tif (Iterations > 100000):\n",
    "\t\t\tprint(Iterations)\n",
    "\t\tIterations += 1\n",
    "\tx = nextX\n",
    "\treturn x\n",
    "\n",
    "\n",
    "def monte_carlo(n, v_length, function, grad_func, method):\n",
    "\tminF = math.inf\n",
    "\tfor i in range(n):\n",
    "\t\tx = []\n",
    "\t\tfor j in range(v_length):\n",
    "\t\t\tx.append(random.uniform(minX, maxX))\n",
    "\t\tprint(\"x0 == \", x)\n",
    "\t\tx = grad_desc(x, function, grad_func, method)\n",
    "\t\tprint(\"x == \", x, \"\\tf(x) == \", function(x), \"\\n------------------------\")\n",
    "\t\tif function(x) < minF:\n",
    "\t\t\tminF = function(x)\n",
    "\t\t\tminArg = x\n",
    "\treturn minArg\n",
    "\n",
    "print(\"Two-dimensional Rozenbrock\")\n",
    "minArg = monte_carlo(5, 2, rozen_two, rozen_grad_two, 1)\n",
    "print(\"x = \", minArg)\n",
    "print(\"f(x) = \", rozen_two(minArg))\n",
    "\n",
    "print(\"Multidimensional Rozenbrock\")\n",
    "minArg = monte_carlo(5, 4, rozen_multi(4), rozen_grad_multi(4), 1)\n",
    "print(\"x = \", minArg)\n",
    "print(\"f(x) = \", rozen_multi(4)(minArg))"
   ]
  },
  {
   "cell_type": "heading",
   "metadata": {},
   "level": 1,
   "source": [
    "Constantly Decrasing Lambda:"
   ]
  },
  {
   "cell_type": "code",
   "execution_count": 11,
   "metadata": {},
   "outputs": [
    {
     "name": "stdout",
     "output_type": "stream",
     "text": [
      "Two-dimensional Rozenbrock\nx0 ==  [-6.912838401308976, 1.7061878430840594]\n"
     ]
    },
    {
     "name": "stdout",
     "output_type": "stream",
     "text": [
      "x ==  [-1.3558105160142313, 1.8458695338705926] \tf(x) ==  5.555691427210245 \n------------------------\nx0 ==  [-5.958131426977468, -5.28543796688872]\n"
     ]
    },
    {
     "name": "stdout",
     "output_type": "stream",
     "text": [
      "x ==  [0.2827424251089285, 0.0768765246729421] \tf(x) ==  0.5153989269221796 \n------------------------\nx0 ==  [1.1972920165549361, -9.003740834225763]\n"
     ]
    },
    {
     "name": "stdout",
     "output_type": "stream",
     "text": [
      "x ==  [0.2815954021026942, 0.07623107023202415] \tf(x) ==  0.5170445276362906 \n------------------------\nx0 ==  [3.2899599145704386, -1.7989391117355211]\n"
     ]
    },
    {
     "name": "stdout",
     "output_type": "stream",
     "text": [
      "x ==  [0.3014045340257334, 0.0877580038635512] \tf(x) ==  0.4889883901433474 \n------------------------\nx0 ==  [9.66952886225737, -0.18631010303329276]\nx ==  [0.9529151043946177, 0.9055444292841685] \tf(x) ==  0.0028433716093612268 \n------------------------\nx =  [0.9529151043946177, 0.9055444292841685]\nf(x) =  0.0028433716093612268\nMultidimensional Rozenbrock\nx0 ==  [6.099189618383495, 6.298971478223564, 8.35233573102743, 6.420166997485563]\nx ==  [2.590827551164614, 6.714990998875321, 2.6384653971101097, 6.964222981953705] \tf(x) ==  5.216720680589006 \n------------------------\nx0 ==  [-8.154493749844224, 1.6647535867744452, -6.2137940533170095, 4.977733979466137]\n"
     ]
    },
    {
     "name": "stdout",
     "output_type": "stream",
     "text": [
      "x ==  [-1.274223558308395, 1.6313784879662516, -2.167958337208319, 4.706980610937509] \tf(x) ==  15.218845013030958 \n------------------------\nx0 ==  [-7.803177021322767, 8.573241988045627, 2.656381184221189, 8.617476181090904]\n"
     ]
    },
    {
     "name": "stdout",
     "output_type": "stream",
     "text": [
      "x ==  [-2.9335906653095543, 8.612469311327441, 2.8916723340193253, 8.364944840087022] \tf(x) ==  19.056813087611864 \n------------------------\nx0 ==  [-9.163754589204764, 0.8565288111610521, -0.8682960566221247, -3.9878470286658025]\n"
     ]
    },
    {
     "name": "stdout",
     "output_type": "stream",
     "text": [
      "x ==  [-1.0036500260788443, 1.0153097964181612, 0.49239659454436496, 0.2399102312002466] \tf(x) ==  4.279316202732013 \n------------------------\nx0 ==  [-7.028981937888434, -9.150297440925645, 2.603243256242628, -6.280794033777339]\n"
     ]
    },
    {
     "name": "stdout",
     "output_type": "stream",
     "text": [
      "x ==  [0.37185425849836434, 0.13526141107005338, 0.37328799208770996, 0.1363332341160904] \tf(x) ==  0.7891499666090992 \n------------------------\nx =  [0.37185425849836434, 0.13526141107005338, 0.37328799208770996, 0.1363332341160904]\nf(x) =  0.7891499666090992\n"
     ]
    }
   ],
   "source": [
    "__author__ = 'Nikita Rybkin'\n",
    "\n",
    "import math\n",
    "import numpy\n",
    "import random\n",
    "\n",
    "lambda_c = 0.00001\n",
    "lambda_delta = 0.99999\n",
    "EPS = 1e-5\n",
    "minX = -10\n",
    "maxX = 10\n",
    "MAXIterations = 1e5\n",
    "\n",
    "\n",
    "def lambda_counter(x, grad, function):\n",
    "\tl = 0\n",
    "\tr = 1\n",
    "\twhile (r - l > EPS):\n",
    "\t\tx1 = l + (r - l) / 3\n",
    "\t\tx2 = l + (r - l) / 3 * 2\n",
    "\t\tf1 = function(substract(x, vector_multiplicator(grad, x1)))\n",
    "\t\tf2 = function(substract(x, vector_multiplicator(grad, x2)))\n",
    "\t\tif (f1 > f2):\n",
    "\t\t\tl = x1\n",
    "\t\telse:\n",
    "\t\t\tr = x2\n",
    "\tf1 = function(substract(x, vector_multiplicator(grad, l)))\n",
    "\tf2 = function(substract(x, vector_multiplicator(grad, r)))\n",
    "\tif (f1 < f2):\n",
    "\t\treturn l\n",
    "\telse:\n",
    "\t\treturn r\n",
    "\n",
    "\n",
    "def rozen_two(x):\n",
    "\treturn ((1 - x[0]) ** 2) + 100 * ((x[1] - x[0] ** 2) ** 2)\n",
    "\n",
    "\n",
    "def rozen_multi(n):\n",
    "\tdef f(x):\n",
    "\t\tres = 0\n",
    "\t\tfor i in range(int(n / 2)):\n",
    "\t\t\tres = res + (1 - x[2 * i]) ** 2 + 100 * ((x[2 * i + 1] - x[2 * i] ** 2) ** 2)\n",
    "\t\treturn res\n",
    "\n",
    "\treturn f\n",
    "\n",
    "\n",
    "def rozen_grad_two(x):\n",
    "\tres = []\n",
    "\tres.append(2 * (200 * x[0] ** 3 - 200 * x[0] * x[1] + x[0] - 1))\n",
    "\tres.append(200 * (x[1] - x[0] ** 2))\n",
    "\treturn res\n",
    "\n",
    "\n",
    "def rozen_grad_multi(n):\n",
    "\tdef grad(x):\n",
    "\t\tres = []\n",
    "\t\tfor i in range(int(n / 2)):\n",
    "\t\t\tres.append(2 * (200 * x[2 * i] ** 3 - 200 * x[2 * i] * x[2 * i + 1] + x[2 * i] - 1))\n",
    "\t\t\tres.append(200 * (x[2 * i + 1] - x[2 * i] ** 2))\n",
    "\t\treturn res\n",
    "\n",
    "\treturn grad\n",
    "\n",
    "\n",
    "def substract(x1, x2):\n",
    "\tx = []\n",
    "\tfor i in range(len(x1)):\n",
    "\t\tx.append(x1[i] - x2[i])\n",
    "\treturn x\n",
    "\n",
    "\n",
    "def vector_multiplicator(x, k):\n",
    "\tres = []\n",
    "\tfor i in x:\n",
    "\t\tres.append(i * k)\n",
    "\treturn res\n",
    "\n",
    "\n",
    "def grad_desc(x, function, grad_func, method):\n",
    "\tLambda = lambda_c\n",
    "\tif (method == 3):\n",
    "\t\tLambda = lambda_counter(x, grad_func(x), function)\n",
    "\tnextX = substract(x, vector_multiplicator(grad_func(x), Lambda))\n",
    "\tIterations = 0\n",
    "\twhile (numpy.linalg.norm(substract(x, nextX)) > EPS\n",
    "\t\t   and math.fabs(function(x) - function(nextX)) > EPS\n",
    "\t\t   and numpy.linalg.norm(grad_func(x)) > EPS\n",
    "\t\t   and Iterations < MAXIterations):\n",
    "\t\tx = nextX\n",
    "\t\tif (method == 2):\n",
    "\t\t\tLambda = Lambda * lambda_delta\n",
    "\t\tif (method == 3):\n",
    "\t\t\tLambda = lambda_counter(x, grad_func(x), function)\n",
    "\t\tnextX = substract(x, vector_multiplicator(grad_func(x), Lambda))\n",
    "\t\tif (Iterations > 100000):\n",
    "\t\t\tprint(Iterations)\n",
    "\t\tIterations += 1\n",
    "\tx = nextX\n",
    "\treturn x\n",
    "\n",
    "\n",
    "def monte_carlo(n, v_length, function, grad_func, method):\n",
    "\tminF = math.inf\n",
    "\tfor i in range(n):\n",
    "\t\tx = []\n",
    "\t\tfor j in range(v_length):\n",
    "\t\t\tx.append(random.uniform(minX, maxX))\n",
    "\t\tprint(\"x0 == \", x)\n",
    "\t\tx = grad_desc(x, function, grad_func, method)\n",
    "\t\tprint(\"x == \", x, \"\\tf(x) == \", function(x), \"\\n------------------------\")\n",
    "\t\tif function(x) < minF:\n",
    "\t\t\tminF = function(x)\n",
    "\t\t\tminArg = x\n",
    "\treturn minArg\n",
    "\n",
    "print(\"Two-dimensional Rozenbrock\")\n",
    "minArg = monte_carlo(5, 2, rozen_two, rozen_grad_two, 2)\n",
    "print(\"x = \", minArg)\n",
    "print(\"f(x) = \", rozen_two(minArg))\n",
    "\n",
    "print(\"Multidimensional Rozenbrock\")\n",
    "minArg = monte_carlo(5, 4, rozen_multi(4), rozen_grad_multi(4), 2)\n",
    "print(\"x = \", minArg)\n",
    "print(\"f(x) = \", rozen_multi(4)(minArg))"
   ]
  },
  {
   "cell_type": "heading",
   "metadata": {},
   "level": 1,
   "source": [
    "Optimal Lambda:"
   ]
  },
  {
   "cell_type": "code",
   "execution_count": 16,
   "metadata": {},
   "outputs": [
    {
     "name": "stdout",
     "output_type": "stream",
     "text": [
      "Two-dimensional Rozenbrock\nx0 ==  [1.7196330459022526, -5.055057936384708]\nx ==  [0.9822175732695585, 0.9646751725168269] \tf(x) ==  0.00031679517257039415 \n------------------------\nx0 ==  [0.0872870817859468, -1.0491643651027793]\n"
     ]
    },
    {
     "name": "stdout",
     "output_type": "stream",
     "text": [
      "x ==  [5.867539856799276, 34.431783563881] \tf(x) ==  23.694357711296306 \n------------------------\nx0 ==  [-3.8974447599873985, -7.022215102188665]\n"
     ]
    },
    {
     "name": "stdout",
     "output_type": "stream",
     "text": [
      "x ==  [10.026705711513221, 100.54390180417413] \tf(x) ==  81.48965043747533 \n------------------------\nx0 ==  [0.9011794037543233, -5.032949654376349]\n"
     ]
    },
    {
     "name": "stdout",
     "output_type": "stream",
     "text": [
      "x ==  [0.9328001824715682, 0.8697281462366965] \tf(x) ==  0.004530872528517423 \n------------------------\nx0 ==  [-4.004877427487072, 2.48298828602719]\nx ==  [0.9776628323020022, 0.9560384420072328] \tf(x) ==  0.0005035213167723832 \n------------------------\nx =  [0.9822175732695585, 0.9646751725168269]\nf(x) =  0.00031679517257039415\nMultidimensional Rozenbrock\nx0 ==  [-9.103282627514622, -4.454209558769742, 0.24021219197920018, 2.379330432947441]\n"
     ]
    },
    {
     "name": "stdout",
     "output_type": "stream",
     "text": [
      "x ==  [1.0895610937201576, 1.187297616167398, 0.9965359861547028, 0.9930700811919815] \tf(x) ==  0.008035587168555756 \n------------------------\nx0 ==  [8.187255675959662, -1.3418255320298211, 0.6857499035074692, -5.1869067995488845]\n"
     ]
    },
    {
     "name": "stdout",
     "output_type": "stream",
     "text": [
      "x ==  [1.00000001847575, 1.0000000370254334, -3.742733453804119, 14.013247969024171] \tf(x) ==  22.49621865043594 \n------------------------\nx0 ==  [2.1436200458567782, 9.529538016927638, 3.3673132715157372, 3.3814520933389307]\n"
     ]
    },
    {
     "name": "stdout",
     "output_type": "stream",
     "text": [
      "x ==  [1.0788875994904459, 1.1640681935004205, 1.0015174873941772, 1.003043344385002] \tf(x) ==  0.006226046185023265 \n------------------------\nx0 ==  [4.751393833869059, -7.519774384281403, 9.339961099884455, 5.351432429090286]\n"
     ]
    },
    {
     "name": "stdout",
     "output_type": "stream",
     "text": [
      "x ==  [-3.3102897462720478, 10.964383419392245, 4.722362344913979, 22.305539045048686] \tf(x) ==  32.4409664396814 \n------------------------\nx0 ==  [-3.760870742273365, -6.885202275678126, 0.8885341295701821, -5.80814997830065]\n"
     ]
    },
    {
     "name": "stdout",
     "output_type": "stream",
     "text": [
      "x ==  [0.9351534211015645, 0.8742421478737621, 0.9660159884943295, 0.932897816967436] \tf(x) ==  0.00537562591006038 \n------------------------\nx =  [0.9351534211015645, 0.8742421478737621, 0.9660159884943295, 0.932897816967436]\nf(x) =  0.00537562591006038\n"
     ]
    }
   ],
   "source": [
    "__author__ = 'Nikita Rybkin'\n",
    "\n",
    "import math\n",
    "import numpy\n",
    "import random\n",
    "\n",
    "lambda_c = 0.00001\n",
    "lambda_delta = 0.99999\n",
    "EPS = 1e-5\n",
    "minX = -10\n",
    "maxX = 10\n",
    "MAXIterations = 5e4\n",
    "\n",
    "\n",
    "def lambda_counter(x, grad, function):\n",
    "\tl = 0\n",
    "\tr = 1\n",
    "\twhile (r - l > EPS):\n",
    "\t\tx1 = l + (r - l) / 3\n",
    "\t\tx2 = l + (r - l) / 3 * 2\n",
    "\t\tf1 = function(substract(x, vector_multiplicator(grad, x1)))\n",
    "\t\tf2 = function(substract(x, vector_multiplicator(grad, x2)))\n",
    "\t\tif (f1 > f2):\n",
    "\t\t\tl = x1\n",
    "\t\telse:\n",
    "\t\t\tr = x2\n",
    "\tf1 = function(substract(x, vector_multiplicator(grad, l)))\n",
    "\tf2 = function(substract(x, vector_multiplicator(grad, r)))\n",
    "\tif (f1 < f2):\n",
    "\t\treturn l\n",
    "\telse:\n",
    "\t\treturn r\n",
    "\n",
    "\n",
    "def rozen_two(x):\n",
    "\treturn ((1 - x[0]) ** 2) + 100 * ((x[1] - x[0] ** 2) ** 2)\n",
    "\n",
    "\n",
    "def rozen_multi(n):\n",
    "\tdef f(x):\n",
    "\t\tres = 0\n",
    "\t\tfor i in range(int(n / 2)):\n",
    "\t\t\tres = res + (1 - x[2 * i]) ** 2 + 100 * ((x[2 * i + 1] - x[2 * i] ** 2) ** 2)\n",
    "\t\treturn res\n",
    "\n",
    "\treturn f\n",
    "\n",
    "\n",
    "def rozen_grad_two(x):\n",
    "\tres = []\n",
    "\tres.append(2 * (200 * x[0] ** 3 - 200 * x[0] * x[1] + x[0] - 1))\n",
    "\tres.append(200 * (x[1] - x[0] ** 2))\n",
    "\treturn res\n",
    "\n",
    "\n",
    "def rozen_grad_multi(n):\n",
    "\tdef grad(x):\n",
    "\t\tres = []\n",
    "\t\tfor i in range(int(n / 2)):\n",
    "\t\t\tres.append(2 * (200 * x[2 * i] ** 3 - 200 * x[2 * i] * x[2 * i + 1] + x[2 * i] - 1))\n",
    "\t\t\tres.append(200 * (x[2 * i + 1] - x[2 * i] ** 2))\n",
    "\t\treturn res\n",
    "\n",
    "\treturn grad\n",
    "\n",
    "\n",
    "def substract(x1, x2):\n",
    "\tx = []\n",
    "\tfor i in range(len(x1)):\n",
    "\t\tx.append(x1[i] - x2[i])\n",
    "\treturn x\n",
    "\n",
    "\n",
    "def vector_multiplicator(x, k):\n",
    "\tres = []\n",
    "\tfor i in x:\n",
    "\t\tres.append(i * k)\n",
    "\treturn res\n",
    "\n",
    "\n",
    "def grad_desc(x, function, grad_func, method):\n",
    "\tLambda = lambda_c\n",
    "\tif (method == 3):\n",
    "\t\tLambda = lambda_counter(x, grad_func(x), function)\n",
    "\tnextX = substract(x, vector_multiplicator(grad_func(x), Lambda))\n",
    "\tIterations = 0\n",
    "\twhile (numpy.linalg.norm(substract(x, nextX)) > EPS\n",
    "\t\t   and math.fabs(function(x) - function(nextX)) > EPS\n",
    "\t\t   and numpy.linalg.norm(grad_func(x)) > EPS\n",
    "\t\t   and Iterations < MAXIterations):\n",
    "\t\tx = nextX\n",
    "\t\tif (method == 2):\n",
    "\t\t\tLambda = Lambda * lambda_delta\n",
    "\t\tif (method == 3):\n",
    "\t\t\tLambda = lambda_counter(x, grad_func(x), function)\n",
    "\t\tnextX = substract(x, vector_multiplicator(grad_func(x), Lambda))\n",
    "\t\tif (Iterations > 100000):\n",
    "\t\t\tprint(Iterations)\n",
    "\t\tIterations += 1\n",
    "\tx = nextX\n",
    "\treturn x\n",
    "\n",
    "\n",
    "def monte_carlo(n, v_length, function, grad_func, method):\n",
    "\tminF = math.inf\n",
    "\tfor i in range(n):\n",
    "\t\tx = []\n",
    "\t\tfor j in range(v_length):\n",
    "\t\t\tx.append(random.uniform(minX, maxX))\n",
    "\t\tprint(\"x0 == \", x)\n",
    "\t\tx = grad_desc(x, function, grad_func, method)\n",
    "\t\tprint(\"x == \", x, \"\\tf(x) == \", function(x), \"\\n------------------------\")\n",
    "\t\tif function(x) < minF:\n",
    "\t\t\tminF = function(x)\n",
    "\t\t\tminArg = x\n",
    "\treturn minArg\n",
    "\n",
    "print(\"Two-dimensional Rozenbrock\")\n",
    "minArg = monte_carlo(5, 2, rozen_two, rozen_grad_two, 3)\n",
    "print(\"x = \", minArg)\n",
    "print(\"f(x) = \", rozen_two(minArg))\n",
    "\n",
    "print(\"Multidimensional Rozenbrock\")\n",
    "minArg = monte_carlo(5, 4, rozen_multi(4), rozen_grad_multi(4), 3)\n",
    "print(\"x = \", minArg)\n",
    "print(\"f(x) = \", rozen_multi(4)(minArg))"
   ]
  },
  {
   "cell_type": "markdown",
   "metadata": {},
   "source": [
    "1st method gives bad accuracy but works fast.\n",
    "2nd method works slower.\n",
    "3rd method works quite slow but gives great accuracy."
   ]
  },
  {
   "cell_type": "code",
   "execution_count": null,
   "metadata": {},
   "outputs": [],
   "source": [
    ""
   ]
  }
 ],
 "metadata": {
  "kernelspec": {
   "display_name": "Python 2",
   "language": "python",
   "name": "python2"
  },
  "language_info": {
   "codemirror_mode": {
    "name": "ipython",
    "version": 2.0
   },
   "file_extension": ".py",
   "mimetype": "text/x-python",
   "name": "python",
   "nbconvert_exporter": "python",
   "pygments_lexer": "ipython2",
   "version": "2.7.6"
  }
 },
 "nbformat": 4,
 "nbformat_minor": 0
}